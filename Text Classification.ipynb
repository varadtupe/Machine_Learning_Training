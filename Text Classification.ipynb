{
 "cells": [
  {
   "cell_type": "code",
   "execution_count": 2,
   "metadata": {},
   "outputs": [
    {
     "name": "stdout",
     "output_type": "stream",
     "text": [
      "(['a', 'wonderful', 'little', 'movie', 'that', 'is', 'really', 'interested', 'in', 'its', 'characters', 'and', 'in', 'its', 'theme', '.', 'the', 'scene', 'of', '\"', 'second', 'best', '\"', 'is', 'laid', 'in', 'wales', '.', 'james', '(', 'chris', 'cleary', 'miles', ')', 'is', 'a', '10', '-', 'year', '-', 'old', 'boy', 'who', 'must', 'live', 'in', 'a', 'home', 'because', 'his', 'father', '(', 'keith', 'allen', ')', 'is', 'in', 'prison', 'and', 'his', 'mother', 'committed', 'suicide', '.', 'james', 'is', 'a', 'mentally', 'unbalanced', 'child', '.', 'he', 'can', \"'\", 't', 'forget', 'what', 'happened', 'in', 'the', 'past', ',', 'and', 'he', 'dreams', 'of', 'living', 'a', 'happy', 'life', 'with', 'his', 'beloved', 'father', '.', 'in', 'the', 'home', 'he', 'feels', 'sadly', 'and', 'lonely', '.', 'one', 'day', ',', 'a', 'social', 'worker', '(', 'alan', 'cumming', ')', 'tells', 'him', 'of', 'a', 'person', 'who', 'wants', 'to', 'adopt', 'him', '.', 'this', 'person', 'is', 'graham', 'holt', '(', 'william', 'hurt', ')', '.', 'graham', 'manages', 'a', 'post', 'office', 'and', 'shop', 'in', 'a', 'village', '.', 'he', 'is', 'a', 'single', 'and', 'hasn', \"'\", 't', 'any', 'real', 'friends', '.', 'his', 'mother', 'is', 'dead', ',', 'and', 'his', 'father', 'is', 'ill', 'and', 'will', 'die', '.', 'graham', 'feels', 'that', 'he', 'has', 'been', 'a', 'disappointment', 'to', 'his', 'parents', '.', 'there', 'has', 'never', 'been', 'real', 'love', 'between', 'his', 'parents', 'and', 'him', '.', 'graham', \"'\", 's', 'monotonous', 'life', 'would', 'get', 'a', 'new', 'sense', 'if', 'he', 'could', 'adopt', 'james', '.', 'but', 'graham', 'has', 'not', 'only', 'to', 'convince', 'the', 'institutions', ',', 'but', 'must', 'also', 'win', 'the', 'love', 'of', 'james', '.', 'james', 'and', 'graham', 'have', 'to', 'open', 'theirselves', '.', 'they', 'must', 'get', 'to', 'know', 'each', 'other', 'and', 'learn', 'to', 'understand', 'and', 'trust', 'the', 'other', 'person', '.', 'james', 'and', 'graham', 'aid', 'each', 'other', 'to', 'cope', 'with', 'their', 'problems', '.', 'but', 'will', 'their', 'relationship', 'really', 'have', 'a', 'future', '?', '\"', 'second', 'best', '\"', 'is', 'based', 'on', 'a', 'novel', 'by', 'david', 'cook', 'who', 'also', 'wrote', 'the', 'screenplay', '.', 'the', 'film', 'was', 'directed', 'by', 'chris', 'menges', 'who', 'had', 'made', 'his', 'directing', 'debut', 'with', 'the', 'very', 'good', 'anti', '-', 'apartheid', 'drama', '\"', 'a', 'world', 'apart', '\"', '(', '1987', '/', '88', ')', '.', 'and', 'maybe', ',', '\"', 'second', 'best', '\"', 'is', 'even', 'a', 'greater', 'picture', '.', 'this', 'precise', ',', 'richly', 'detailed', ',', 'sensitively', 'and', 'convincingly', 'directed', 'study', 'about', 'a', 'special', 'adoption', 'treats', 'its', 'theme', 'with', 'great', 'seriousness', '.', 'the', 'breathtakingly', 'intense', 'film', 'shows', 'the', 'necessity', 'of', 'human', 'contact', 'and', 'communication', '.', 'william', 'hurt', 'delivers', 'an', 'outstanding', 'performance', 'as', 'graham', 'holt', '.', 'and', 'chris', 'cleary', 'miles', 'is', 'remarkably', 'convincing', 'in', 'the', 'role', 'of', 'the', 'boy', '.', 'the', 'supporting', 'cast', 'is', 'also', 'fine', '(', 'especially', 'jane', 'horrocks', 'as', 'debbie', ',', 'a', 'social', 'worker', 'who', 'is', 'charged', 'to', 'examine', 'graham', \"'\", 's', 'living', 'circumstances', ')', '.', '\"', 'second', 'best', '\"', 'is', 'an', 'underestimated', 'masterpiece', '.', 'it', \"'\", 's', 'a', 'pity', 'that', 'films', 'like', 'this', 'one', 'are', 'made', 'so', 'seldom', '.', 'i', 'eagerly', 'await', 'menges', \"'\", 'next', 'directorial', 'work', ',', '\"', 'the', 'lost', 'son', '\"', ',', 'which', 'will', 'star', 'daniel', 'auteuil', '.'], 'pos')\n",
      "[(',', 77717), ('the', 76529), ('.', 65876), ('a', 38106), ('and', 35576), ('of', 34123), ('to', 31937), (\"'\", 30585), ('is', 25195), ('in', 21822), ('s', 18513), ('\"', 17612), ('it', 16107), ('that', 15924), ('-', 15595)]\n",
      "253\n",
      "<FreqDist with 39768 samples and 1583820 outcomes>\n"
     ]
    }
   ],
   "source": [
    "import nltk\n",
    "import random\n",
    "from nltk.corpus import movie_reviews\n",
    "\n",
    "documents = [(list(movie_reviews.words(fileid)), category)\n",
    "             for category in movie_reviews.categories()\n",
    "             for fileid in movie_reviews.fileids(category)]\n",
    "\n",
    "random.shuffle(documents)\n",
    "\n",
    "print(documents[1])\n",
    "\n",
    "all_words = []\n",
    "for w in movie_reviews.words():\n",
    "    all_words.append(w.lower())\n",
    "\n",
    "all_words = nltk.FreqDist(all_words)\n"
   ]
  },
  {
   "cell_type": "code",
   "execution_count": 3,
   "metadata": {},
   "outputs": [
    {
     "name": "stdout",
     "output_type": "stream",
     "text": [
      "[(',', 77717), ('the', 76529), ('.', 65876), ('a', 38106), ('and', 35576), ('of', 34123), ('to', 31937), (\"'\", 30585), ('is', 25195), ('in', 21822), ('s', 18513), ('\"', 17612), ('it', 16107), ('that', 15924), ('-', 15595)]\n",
      "253\n",
      "<FreqDist with 39768 samples and 1583820 outcomes>\n"
     ]
    }
   ],
   "source": [
    "print(all_words.most_common(15))\n",
    "print(all_words[\"stupid\"])\n",
    "print(all_words)"
   ]
  },
  {
   "cell_type": "code",
   "execution_count": 4,
   "metadata": {},
   "outputs": [],
   "source": [
    "import nltk\n",
    "import random\n",
    "from nltk.corpus import movie_reviews\n",
    "\n",
    "documents = [(list(movie_reviews.words(fileid)), category)\n",
    "             for category in movie_reviews.categories()\n",
    "             for fileid in movie_reviews.fileids(category)]\n",
    "\n",
    "random.shuffle(documents)\n",
    "\n",
    "all_words = []\n",
    "\n",
    "for w in movie_reviews.words():\n",
    "    all_words.append(w.lower())\n",
    "\n",
    "all_words = nltk.FreqDist(all_words)\n",
    "\n",
    "word_features = list(all_words.keys())[:3000]"
   ]
  },
  {
   "cell_type": "code",
   "execution_count": null,
   "metadata": {},
   "outputs": [],
   "source": []
  }
 ],
 "metadata": {
  "kernelspec": {
   "display_name": "Python 3",
   "language": "python",
   "name": "python3"
  },
  "language_info": {
   "codemirror_mode": {
    "name": "ipython",
    "version": 3
   },
   "file_extension": ".py",
   "mimetype": "text/x-python",
   "name": "python",
   "nbconvert_exporter": "python",
   "pygments_lexer": "ipython3",
   "version": "3.6.4"
  }
 },
 "nbformat": 4,
 "nbformat_minor": 2
}
